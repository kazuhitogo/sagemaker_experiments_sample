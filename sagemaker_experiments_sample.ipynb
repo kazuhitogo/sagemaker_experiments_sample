{
 "cells": [
  {
   "cell_type": "code",
   "execution_count": null,
   "id": "f4cba6d1",
   "metadata": {},
   "outputs": [],
   "source": [
    "import sys,os"
   ]
  },
  {
   "cell_type": "code",
   "execution_count": null,
   "id": "5a0e1bce",
   "metadata": {
    "scrolled": true
   },
   "outputs": [],
   "source": [
    "!{sys.executable} -m pip install -U sagemaker \n",
    "!{sys.executable} -m pip install -U sagemaker-experiments"
   ]
  },
  {
   "cell_type": "code",
   "execution_count": null,
   "id": "bf1931e6",
   "metadata": {},
   "outputs": [],
   "source": [
    "import time\n",
    "from time import strftime\n",
    "\n",
    "import sagemaker\n",
    "from sagemaker.tensorflow import TensorFlow\n",
    "\n",
    "from smexperiments.experiment import Experiment\n",
    "from smexperiments.trial import Trial\n",
    "from smexperiments.trial_component import TrialComponent\n",
    "from smexperiments.tracker import Tracker\n",
    "\n",
    "from tensorflow.keras.datasets.fashion_mnist import load_data\n",
    "import numpy as np"
   ]
  },
  {
   "cell_type": "code",
   "execution_count": null,
   "id": "2df7e7a2",
   "metadata": {},
   "outputs": [],
   "source": [
    "# 全削除\n",
    "\n",
    "for exp in Experiment.list():\n",
    "    tmp_exp = Experiment.load(exp.experiment_name)\n",
    "    tmp_exp.delete_all(action=\"--force\")"
   ]
  },
  {
   "cell_type": "code",
   "execution_count": null,
   "id": "2e7a7251",
   "metadata": {},
   "outputs": [],
   "source": [
    "role = sagemaker.get_execution_role()\n",
    "sm_sess = sagemaker.session.Session()"
   ]
  },
  {
   "cell_type": "code",
   "execution_count": null,
   "id": "7db27ae1",
   "metadata": {},
   "outputs": [],
   "source": [
    "project_name = 'fassion-mnist'\n",
    "create_date = strftime(\"%Y%m%d-%H%M%S\")\n",
    "experiment = Experiment.create(experiment_name = f\"{project_name}-{create_date}\",\n",
    "                               description = f\"{project_name} experiment\",\n",
    "                               tags = [{'Key': f'{project_name}-experiments', 'Value': f'{project_name}_{create_date}'}])"
   ]
  },
  {
   "cell_type": "code",
   "execution_count": null,
   "id": "2eb7b034",
   "metadata": {},
   "outputs": [],
   "source": [
    "demo_trial = Trial.create(trial_name = f\"{project_name}-{create_date}\",\n",
    "                          experiment_name = experiment.experiment_name,\n",
    "                          tags = [{'Key': f'{project_name}-trials', 'Value': '1'}])"
   ]
  },
  {
   "cell_type": "code",
   "execution_count": null,
   "id": "5084da0c",
   "metadata": {},
   "outputs": [],
   "source": [
    "(train_X, train_y), (test_X, test_y) = load_data()\n",
    "# from -1 to 1 normalization and channel last\n",
    "train_X = (train_X/127.5-1).astype(np.float32).reshape((train_X.shape[0],train_X.shape[1],train_X.shape[2],1))\n",
    "test_X = (test_X/127.5-1).astype(np.float32).reshape((test_X.shape[0],test_X.shape[1],test_X.shape[2],1))\n",
    "# one hot encoding\n",
    "train_y = np.eye(10)[train_y]\n",
    "test_y = np.eye(10)[test_y]"
   ]
  },
  {
   "cell_type": "code",
   "execution_count": null,
   "id": "e1c5a556",
   "metadata": {},
   "outputs": [],
   "source": [
    "# export npy\n",
    "data_dir = './data/'\n",
    "!mkdir -p {data_dir}\n",
    "TRAIN_X_PATH = os.path.join(data_dir,'train_X.npy')\n",
    "TEST_X_PATH = os.path.join(data_dir,'test_X.npy')\n",
    "TRAIN_Y_PATH = os.path.join(data_dir,'train_y.npy')\n",
    "TEST_Y_PATH = os.path.join(data_dir,'test_y.npy')\n",
    "np.save(TRAIN_X_PATH,train_X)\n",
    "np.save(TEST_X_PATH,test_X)\n",
    "np.save(TRAIN_Y_PATH,train_y)\n",
    "np.save(TEST_Y_PATH,test_y)"
   ]
  },
  {
   "cell_type": "code",
   "execution_count": null,
   "id": "953b570b",
   "metadata": {},
   "outputs": [],
   "source": [
    "# upload data\n",
    "role = sagemaker.get_execution_role()\n",
    "sess = sagemaker.session.Session()\n",
    "train_X_uri = sess.upload_data(path=TRAIN_X_PATH, bucket=sess.default_bucket(), key_prefix=f'sagemaker/{project_name}')\n",
    "train_y_uri = sess.upload_data(path=TRAIN_Y_PATH, bucket=sess.default_bucket(), key_prefix=f'sagemaker/{project_name}')\n",
    "test_X_uri = sess.upload_data(path=TEST_X_PATH, bucket=sess.default_bucket(), key_prefix=f'sagemaker/{project_name}')\n",
    "test_y_uri = sess.upload_data(path=TEST_Y_PATH, bucket=sess.default_bucket(), key_prefix=f'sagemaker/{project_name}')\n",
    "print(train_X_uri)\n",
    "print(train_y_uri)\n",
    "print(test_X_uri)\n",
    "print(test_y_uri)\n"
   ]
  },
  {
   "cell_type": "code",
   "execution_count": null,
   "id": "11a14445",
   "metadata": {},
   "outputs": [],
   "source": [
    "estimator = TensorFlow(\n",
    "    entry_point='./src/train.py',\n",
    "    role=role,\n",
    "    instance_count=1,\n",
    "    instance_type='ml.g4dn.xlarge',\n",
    "    framework_version='2.4.1',\n",
    "    py_version='py37',\n",
    "    hyperparameters={\n",
    "        'epochs':10,\n",
    "    },\n",
    "    tags = [{'Key': 'fassion-mnist-jobs', 'Value': '1'}]\n",
    ")"
   ]
  },
  {
   "cell_type": "code",
   "execution_count": null,
   "id": "a9a9b1a5",
   "metadata": {},
   "outputs": [],
   "source": [
    "%%time\n",
    "\n",
    "estimator.fit(\n",
    "    {'train': train_X_uri[:-11]},\n",
    "    experiment_config = {\n",
    "        'TrialName' : demo_trial.trial_name,\n",
    "        'TrialComponentDisplayName' : 'TrainingJob',\n",
    "    }\n",
    ")"
   ]
  },
  {
   "cell_type": "code",
   "execution_count": null,
   "id": "01273acf",
   "metadata": {},
   "outputs": [],
   "source": []
  }
 ],
 "metadata": {
  "kernelspec": {
   "display_name": "conda_amazonei_tensorflow2_p36",
   "language": "python",
   "name": "conda_amazonei_tensorflow2_p36"
  },
  "language_info": {
   "codemirror_mode": {
    "name": "ipython",
    "version": 3
   },
   "file_extension": ".py",
   "mimetype": "text/x-python",
   "name": "python",
   "nbconvert_exporter": "python",
   "pygments_lexer": "ipython3",
   "version": "3.6.13"
  }
 },
 "nbformat": 4,
 "nbformat_minor": 5
}
